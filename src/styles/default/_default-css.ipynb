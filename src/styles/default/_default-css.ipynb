{
 "cells": [
  {
   "cell_type": "markdown",
   "metadata": {},
   "source": [
    "## Maturity of  default css files:\n",
    "\n",
    "| Filename | Maturity | Priority | Comment |\n",
    "|----------|----------|----------|---------|\n",
    "| default-404.css | Miminal - ok | Low | 404 functionality is not actually resolved. That needs to be done first.  | |\n",
    "| default-base.css | Looks ok  | Low | . |\n",
    "| default-carousel.css | Not sophisticated | Low | If provided as a default, should be much better. |\n",
    "| default-cookieconsent-layout.css | Minimal | Low | Works fine - probably doesn't need anything else. |\n",
    "| default-cookieconsent-style.css | ok | Low | Fine for now.  Component needs to be replaced. |\n",
    "| default-footer-layout.css | Ok | Low | Seems to be minimal and fully functional. |\n",
    "| default-footer-style.css | Long / disorganised. | Medium. | Could use variables for padding next. |\n",
    "| default-image-layout.css | Unresolved | Medium | What should it look like? |\n",
    "| default-image-style.css | Unresolved | Medium | What should it look like? |\n",
    "| default-index.css | What is this? | **High** | Erradicate? |\n",
    "| default-link-layout.css | empty | Low | Required? |\n",
    "| default-link-style.css | Unresolved | **High** | Just buttons.  Requires other link stuff? |\n",
    "| default-nav-layout.css | Needs checking | Medium | Looks ok - but format and check. |\n",
    "| default-nav-style.css | Clean up | **High** | . |\n",
    "| default-post-layout.css | Tiny | Medium | Check. |\n",
    "| default-post-style.css | Needs work | **High** | Colours and fonts at least. |\n",
    "| default-spinner.css | Check | Medium | Could be so much more. |\n",
    "| default-standardcontent-layout.css | Rationise | Medium | Patterns need to be resolved and documented. |\n",
    "| default-standardcontent-style.css | Fix | **High** | Needs total review. |\n",
    "| default-page-layout.css | Cleanup | **High** | Need to resolve the overflow issue and tidy this up. |\n",
    "| default-tables.css | Resolve | Medium | Is this a default thing?  Colours and fonts please. |"
   ]
  }
 ],
 "metadata": {
  "language_info": {
   "name": "python"
  }
 },
 "nbformat": 4,
 "nbformat_minor": 2
}
